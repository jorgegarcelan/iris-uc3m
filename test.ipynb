{
 "cells": [
  {
   "cell_type": "code",
   "execution_count": 28,
   "metadata": {},
   "outputs": [
    {
     "name": "stderr",
     "output_type": "stream",
     "text": [
      "[nltk_data] Downloading package punkt to\n",
      "[nltk_data]     C:\\Users\\jorge\\AppData\\Roaming\\nltk_data...\n",
      "[nltk_data]   Package punkt is already up-to-date!\n",
      "[nltk_data] Downloading package punkt_tab to\n",
      "[nltk_data]     C:\\Users\\jorge\\AppData\\Roaming\\nltk_data...\n",
      "[nltk_data]   Package punkt_tab is already up-to-date!\n"
     ]
    },
    {
     "data": {
      "text/plain": [
       "True"
      ]
     },
     "execution_count": 28,
     "metadata": {},
     "output_type": "execute_result"
    }
   ],
   "source": [
    "import nltk\n",
    "nltk.download('punkt')\n",
    "nltk.download('punkt_tab')"
   ]
  },
  {
   "cell_type": "markdown",
   "metadata": {},
   "source": [
    "## Building a news source"
   ]
  },
  {
   "cell_type": "code",
   "execution_count": 29,
   "metadata": {},
   "outputs": [],
   "source": [
    "import newspaper\n",
    "elpais_paper = newspaper.build('https://elpais.com/')"
   ]
  },
  {
   "cell_type": "markdown",
   "metadata": {},
   "source": [
    "## Extracting articles"
   ]
  },
  {
   "cell_type": "code",
   "execution_count": 30,
   "metadata": {},
   "outputs": [
    {
     "name": "stdout",
     "output_type": "stream",
     "text": [
      "https://cincodias.elpais.com/mercados-financieros/2024-12-16/guindos-sobre-los-recortes-de-tipos-nadie-sabe-el-final-pero-la-trayectoria-esta-clara.html\n",
      "https://cincodias.elpais.com/companias/2024-12-16/las-constructoras-urgen-medidas-al-gobierno-para-salvar-40-obras-publicas-firmadas-antes-de-2021.html\n",
      "https://cincodias.elpais.com/smartlife/smartphones/2024-12-16/redmi-note-14-series-precio-filtrado.html\n",
      "3\n"
     ]
    }
   ],
   "source": [
    "for article in elpais_paper.articles:\n",
    "    print(article.url)\n",
    "\n",
    "print(elpais_paper.size())"
   ]
  },
  {
   "cell_type": "markdown",
   "metadata": {},
   "source": [
    "## Extracting Source categories"
   ]
  },
  {
   "cell_type": "code",
   "execution_count": 31,
   "metadata": {},
   "outputs": [
    {
     "name": "stdout",
     "output_type": "stream",
     "text": [
      "https://elpais.com/\n",
      "https://cat.elpais.com\n",
      "https://servicios.elpais.com\n",
      "https://cincodias.elpais.com\n",
      "https://entradas.elpais.com\n",
      "https://idiomas.elpais.com\n",
      "https://motor.elpais.com\n",
      "https://english.elpais.com\n",
      "https://elpais.com\n",
      "https://descuentos.elpais.com\n"
     ]
    }
   ],
   "source": [
    "for category in elpais_paper.category_urls():\n",
    "    print(category)"
   ]
  },
  {
   "cell_type": "markdown",
   "metadata": {},
   "source": [
    "## Extracting Source feeds"
   ]
  },
  {
   "cell_type": "code",
   "execution_count": 32,
   "metadata": {},
   "outputs": [],
   "source": [
    "for feed_url in elpais_paper.feed_urls():\n",
    "    print(feed_url)"
   ]
  },
  {
   "cell_type": "markdown",
   "metadata": {},
   "source": [
    "## Extracting Source brand & description"
   ]
  },
  {
   "cell_type": "code",
   "execution_count": 33,
   "metadata": {},
   "outputs": [
    {
     "name": "stdout",
     "output_type": "stream",
     "text": [
      "elpais\n",
      "Noticias de última hora sobre la actualidad en España y el mundo: política, economía, deportes, cultura, sociedad, tecnología, gente, opinión, viajes, moda, televisión, los blogs y las firmas de EL PAÍS. Además especiales, vídeos, fotos, audios, gráficos, entrevistas, promociones y todos los servicios de EL PAÍS.\n"
     ]
    }
   ],
   "source": [
    "print(elpais_paper.brand)\n",
    "print(elpais_paper.description)"
   ]
  },
  {
   "cell_type": "markdown",
   "metadata": {},
   "source": [
    "## Extraer Artículo"
   ]
  },
  {
   "cell_type": "code",
   "execution_count": 34,
   "metadata": {},
   "outputs": [
    {
     "name": "stdout",
     "output_type": "stream",
     "text": [
      "Título: \"Un título mundial como despedida de Alonso sería una historia brillante\"\n",
      "Fecha de publicación: 2024-12-16 00:00:00\n",
      "Contenido: Mostrar comentarios 23\n",
      "\n",
      "Fernando Alonso y Flavio Briatore tienen una muy buena relación. El italiano y el español compartieron muchos momentos juntos en su etapa en Renault, y ahora los dos continúan su andadura en la Fórmula 1, pero por caminos separados. El tiempo les ha llevado al mismo sitio a los dos, a seguir en el Gran Circo, pero ahora el de Oviedo está en Aston Martin, mientras que el directivo se encuentra en Alpine como asesor. El transalpino ha analizado la figura de su amigo y los siguientes pasos que tiene por delante en la máxima categoría del automovilismo.\n",
      "\n",
      "El '14' sigue dando guerra siendo el más veterano de la parrilla, y el futuro junto a Adrian Newey es esperanzador para él y para el equipo con sede en Silverstone. Eso lo sabe Flavio, y ahora se encuentra en una situación delicada, pues tiene sentimientos encontrados al querer que siempre le vaya bien al asturiano, pero ahora es rival de la escudería de la que él forma parte.\n",
      "\n",
      "Flavio Briatore posando con Fernando Alonso en el paddock RRSS\n",
      "\n",
      "Briatore se rinde ante Alonso\n",
      "\n",
      "El ahora asesor de Alpine conoce muy bien a Alonso de todo el tiempo y éxitos que han compartido, y es por ello que sabe perfectamente de lo que es capaz. \"Fernando es una excepción, soy su manager desde hace 22 años. Tiene dinero, pero no tiene hijos, y sigue teniendo hambre\", reflexiona Briatore sobre el que fuera su 'pupilo'.\n",
      "\n",
      "Actualmente, el '14' es el corredor más veterano de la parrilla, pero la edad no es un impedimento para que sus ganas y su ímpetu sigan intactos como el primer día. Su gran amigo está asombrado al ver que a sus 43 años tiene una actitud propia de un debutante, pues nunca se sacia con nada y siempre quiere más: \"Si termina 14º, quiere terminar 13º. Alguien de su edad simplemente haría lo que fuera si se tratara solo del 14º puesto\".\n",
      "\n",
      "Fernando Alonso, junto a Flavio Briatore en Mónaco\n",
      "\n",
      "Sentimientos encontrados para Briatore\n",
      "\n",
      "En este deporte se ha demostrado una y mil veces que no hay amigos en la pista, todas las amistades se olvidan cuando se apaga el semáforo. Es por ello que, aunque la relación entre ambos sea buena, al transalpino no le viene bien que Alonso obtenga los mejores resultados en este momento de su carrera. \"Ahora tengo dos sentimientos en el pecho. Por un lado, deseo que Fernando vuelva con Adrian Newey en Aston Martin en 2026, pero por otro lado, compite contra Alpine\", analiza el asesor de la escudería gala.\n",
      "\n",
      "A pesar de este conflicto de intereses que se le presenta ahora a Briatore, la relación de tantos años que les une a ambos hace que no le pueda desear el mal al bicampeón del mundo. Al igual que el '14', él también piensa en volver a verle en lo más alto del Gran Circo: \"Aún así, un título mundial como despedida sería una historia brillante\". Aunque ahora sean rivales en la parrilla, esta amistad tan fuerte provoca que ambos se alegren si le va bien al otro. En las próximas temporadas veremos cuál de los dos obtiene mejores resultados en el Gran Circo, si el de Aston Martin o el de Alpine.\n",
      "Summary: El italiano y el español compartieron muchos momentos juntos en su etapa en Renault, y ahora los dos continúan su andadura en la Fórmula 1, pero por caminos separados.\n",
      "El tiempo les ha llevado al mismo sitio a los dos, a seguir en el Gran Circo, pero ahora el de Oviedo está en Aston Martin, mientras que el directivo se encuentra en Alpine como asesor.\n",
      "El transalpino ha analizado la figura de su amigo y los siguientes pasos que tiene por delante en la máxima categoría del automovilismo.\n",
      "Al igual que el '14', él también piensa en volver a verle en lo más alto del Gran Circo: \"Aún así, un título mundial como despedida sería una historia brillante\".\n",
      "En las próximas temporadas veremos cuál de los dos obtiene mejores resultados en el Gran Circo, si el de Aston Martin o el de Alpine.\n",
      "Palabras clave: ['su', 'al', 'y', 'mundial', 'sería', 'la', 'título', 'alonso', 'ahora', 'historia', 'brillante', 'una', 'en', 'que', 'el', 'despedida', 'es', 'se', 'como']\n",
      "Autores: ['Aston Martin', 'Javier Pazos']\n",
      "Cantidad de palabras: 544\n",
      "URL de la imagen: https://e00-xlk-ue-marca.uecdn.es/files/phantom_desktop_1200w/uploads/2024/12/16/675fdedab601c.jpeg\n"
     ]
    }
   ],
   "source": [
    "from newspaper import Article\n",
    "\n",
    "url = 'https://www.marca.com/motor/formula1/2024/12/16/titulo-mundial-despedida-alonso-seria-historia-brillante.html'\n",
    "\n",
    "article = Article(url)\n",
    "article.download()\n",
    "article.parse()\n",
    "article.nlp()\n",
    "word_count = len(article.text.split())\n",
    "\n",
    "\n",
    "print(\"Título:\", article.title)\n",
    "print(\"Fecha de publicación:\", article.publish_date)\n",
    "print(\"Contenido:\", article.text)\n",
    "print(\"Summary:\", article.summary) # uses nlp\n",
    "print(\"Palabras clave:\", article.keywords) # uses nlp\n",
    "print(\"Autores:\", article.authors)\n",
    "print(\"Cantidad de palabras:\", word_count)\n",
    "print(\"URL de la imagen:\", article.top_image)"
   ]
  }
 ],
 "metadata": {
  "kernelspec": {
   "display_name": ".venv",
   "language": "python",
   "name": "python3"
  },
  "language_info": {
   "codemirror_mode": {
    "name": "ipython",
    "version": 3
   },
   "file_extension": ".py",
   "mimetype": "text/x-python",
   "name": "python",
   "nbconvert_exporter": "python",
   "pygments_lexer": "ipython3",
   "version": "3.11.2"
  }
 },
 "nbformat": 4,
 "nbformat_minor": 2
}
